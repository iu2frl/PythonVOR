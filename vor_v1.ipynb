{
 "cells": [
  {
   "cell_type": "code",
   "execution_count": 1,
   "id": "1b7da9d3",
   "metadata": {},
   "outputs": [
    {
     "name": "stdout",
     "output_type": "stream",
     "text": [
      "Defaulting to user installation because normal site-packages is not writeable\n",
      "Collecting scipy\n",
      "  Downloading scipy-1.16.0-cp312-cp312-win_amd64.whl.metadata (60 kB)\n",
      "Requirement already satisfied: numpy<2.6,>=1.25.2 in c:\\users\\iu2frl\\appdata\\local\\packages\\pythonsoftwarefoundation.python.3.12_qbz5n2kfra8p0\\localcache\\local-packages\\python312\\site-packages (from scipy) (2.1.1)\n",
      "Downloading scipy-1.16.0-cp312-cp312-win_amd64.whl (38.4 MB)\n",
      "   ---------------------------------------- 0.0/38.4 MB ? eta -:--:--\n",
      "   ------------ --------------------------- 11.5/38.4 MB 60.0 MB/s eta 0:00:01\n",
      "   -------------------------- ------------- 25.7/38.4 MB 62.6 MB/s eta 0:00:01\n",
      "   ----------------------------------- ---- 33.8/38.4 MB 61.3 MB/s eta 0:00:01\n",
      "   ---------------------------------------- 38.4/38.4 MB 49.8 MB/s eta 0:00:00\n",
      "Installing collected packages: scipy\n",
      "Successfully installed scipy-1.16.0\n"
     ]
    },
    {
     "name": "stderr",
     "output_type": "stream",
     "text": [
      "\n",
      "[notice] A new release of pip is available: 25.0.1 -> 25.1.1\n",
      "[notice] To update, run: C:\\Users\\iu2frl\\AppData\\Local\\Microsoft\\WindowsApps\\PythonSoftwareFoundation.Python.3.12_qbz5n2kfra8p0\\python.exe -m pip install --upgrade pip\n"
     ]
    }
   ],
   "source": [
    "!pip install scipy"
   ]
  },
  {
   "cell_type": "code",
   "execution_count": 2,
   "id": "ce9d7315",
   "metadata": {},
   "outputs": [],
   "source": [
    "import numpy as np\n",
    "from scipy.io import wavfile"
   ]
  },
  {
   "cell_type": "code",
   "execution_count": 3,
   "id": "4e006e68",
   "metadata": {},
   "outputs": [],
   "source": [
    "# Replace with your file path\n",
    "filename = 'SDRuno_20250710_164911Z_115786kHz.wav'"
   ]
  },
  {
   "cell_type": "code",
   "execution_count": null,
   "id": "933034ff",
   "metadata": {},
   "outputs": [
    {
     "name": "stdout",
     "output_type": "stream",
     "text": [
      "Sample rate: 2000000 Hz\n",
      "Number of samples: 40069120\n"
     ]
    }
   ],
   "source": [
    "# Read the WAV file\n",
    "sample_rate, data = wavfile.read(filename)\n",
    "\n",
    "# If data is int16, convert to float32 in range [-1, 1]\n",
    "if data.dtype == np.int16:\n",
    "    data = data.astype(np.float32) / 32768.0\n",
    "    \n",
    "# Separate I and Q channels\n",
    "I = data[:, 0]\n",
    "Q = data[:, 1]\n",
    "\n",
    "# Combine into complex IQ samples\n",
    "iq_samples = I + 1j * Q\n",
    "\n",
    "print(f\"Sample rate: {sample_rate} Hz\")\n",
    "print(f\"Number of samples: {len(iq_samples)}\")"
   ]
  }
 ],
 "metadata": {
  "kernelspec": {
   "display_name": "Python 3",
   "language": "python",
   "name": "python3"
  },
  "language_info": {
   "codemirror_mode": {
    "name": "ipython",
    "version": 3
   },
   "file_extension": ".py",
   "mimetype": "text/x-python",
   "name": "python",
   "nbconvert_exporter": "python",
   "pygments_lexer": "ipython3",
   "version": "3.12.10"
  }
 },
 "nbformat": 4,
 "nbformat_minor": 5
}
